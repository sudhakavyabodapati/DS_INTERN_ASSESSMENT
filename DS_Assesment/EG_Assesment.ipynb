{
 "cells": [
  {
   "cell_type": "markdown",
   "metadata": {},
   "source": [
    "1) EDA - Exploratory Data Analysis\n",
    "\n",
    "Performed initial data exploration to understand the structure, features, and statistics of the dataset.\n",
    "Analyzed data distributions, correlations, and patterns using descriptive statistics and visualization techniques.\n",
    "Detected missing values, outliers, and anomalies and decided on appropriate handling strategies.\n",
    "Identified potential data quality issues and decided on preprocessing techniques.\n",
    "\n",
    "2) Data Preprocessing and ETL (Extract, Transform, Load):\n",
    "\n",
    "Conducted data cleaning tasks such as handling missing values, outliers, and duplicates.\n",
    "Performed feature engineering by creating new features, transforming variables, or encoding categorical variables.\n",
    "Split the dataset into training and testing sets for model development and evaluation.\n",
    "\n",
    "3) Model Selection and Training:\n",
    "\n",
    "Selected an appropriate machine learning model based on the available data and desired outcomes.\n",
    "Split the training data further into training and validation sets for model selection and hyperparameter tuning.\n",
    "Trained multiple models using different algorithms.\n",
    "Evaluated model performance using appropriate metrics and compared results.\n",
    "\n",
    "4) Model Evaluation:\n",
    "\n",
    "Analyzed model errors and misclassifications to gain insights into areas for improvement\n",
    "Performed cross-validation or bootstrapping to estimate model performance robustly\n",
    "\n",
    "6) Documentation and Reporting:\n",
    "\n",
    "Documented the entire model building process including EDA findings, preprocessing steps, model selection criteria, and evaluation results.\n",
    "\n",
    "When communicating with stateholders, its important to present the information in a clear and understadable manner.\n",
    "\n",
    "Hypothetical: after seeing your work, your stakeholders come to you and say that they can collect more data, but want your guidance before starting. How would you advise them based on your EDA and model results?\n",
    "\n",
    "1)A more accurate dataset for analysis will be provided by gathering a bigger sample size of games and player performances. With additional data, we may reduce the impact of unexpected changes and increase the generalizability of our conclusions.\n",
    "2)As new data becomes available, continue to iterate on the analysis and model development. Regularly update and retrain the model to incorporate the newly collected data, as this will enhance the accuracy and relevance of the insights we derive.\n"
   ]
  },
  {
   "cell_type": "markdown",
   "metadata": {},
   "source": [
    "Imported pandas to read the dataset from a CSV file and manipulate the data.\n",
    "Numpy is used for various array operations and computatations.\n",
    "Imported Train_test_split from sklearn.model_selection to split the dataset into training and testing subnets.\n",
    "Imported accuracy_score from sklearn.metrics to evualate the accuracy of the model's prediction\n",
    "Imported classification_report from sklearn.metrics to generate a classification report to assess the performance of the model."
   ]
  },
  {
   "cell_type": "code",
   "execution_count": 1,
   "metadata": {
    "id": "noh9v5-arA8j"
   },
   "outputs": [],
   "source": [
    "import pandas as pd\n",
    "import numpy as np\n",
    "from sklearn.model_selection import train_test_split\n",
    "from sklearn.metrics import accuracy_score, classification_report"
   ]
  },
  {
   "cell_type": "markdown",
   "metadata": {},
   "source": [
    "Uploding files from local machine to the notebook"
   ]
  },
  {
   "cell_type": "code",
   "execution_count": 2,
   "metadata": {
    "colab": {
     "base_uri": "https://localhost:8080/",
     "height": 73
    },
    "id": "IOLnhV4ariRj",
    "outputId": "408142cc-281f-40bb-92b2-918fdf4da9ed"
   },
   "outputs": [
    {
     "data": {
      "text/html": [
       "\n",
       "     <input type=\"file\" id=\"files-98facbd5-5e3f-4639-bd42-2dd4ba8b422a\" name=\"files[]\" multiple disabled\n",
       "        style=\"border:none\" />\n",
       "     <output id=\"result-98facbd5-5e3f-4639-bd42-2dd4ba8b422a\">\n",
       "      Upload widget is only available when the cell has been executed in the\n",
       "      current browser session. Please rerun this cell to enable.\n",
       "      </output>\n",
       "      <script>// Copyright 2017 Google LLC\n",
       "//\n",
       "// Licensed under the Apache License, Version 2.0 (the \"License\");\n",
       "// you may not use this file except in compliance with the License.\n",
       "// You may obtain a copy of the License at\n",
       "//\n",
       "//      http://www.apache.org/licenses/LICENSE-2.0\n",
       "//\n",
       "// Unless required by applicable law or agreed to in writing, software\n",
       "// distributed under the License is distributed on an \"AS IS\" BASIS,\n",
       "// WITHOUT WARRANTIES OR CONDITIONS OF ANY KIND, either express or implied.\n",
       "// See the License for the specific language governing permissions and\n",
       "// limitations under the License.\n",
       "\n",
       "/**\n",
       " * @fileoverview Helpers for google.colab Python module.\n",
       " */\n",
       "(function(scope) {\n",
       "function span(text, styleAttributes = {}) {\n",
       "  const element = document.createElement('span');\n",
       "  element.textContent = text;\n",
       "  for (const key of Object.keys(styleAttributes)) {\n",
       "    element.style[key] = styleAttributes[key];\n",
       "  }\n",
       "  return element;\n",
       "}\n",
       "\n",
       "// Max number of bytes which will be uploaded at a time.\n",
       "const MAX_PAYLOAD_SIZE = 100 * 1024;\n",
       "\n",
       "function _uploadFiles(inputId, outputId) {\n",
       "  const steps = uploadFilesStep(inputId, outputId);\n",
       "  const outputElement = document.getElementById(outputId);\n",
       "  // Cache steps on the outputElement to make it available for the next call\n",
       "  // to uploadFilesContinue from Python.\n",
       "  outputElement.steps = steps;\n",
       "\n",
       "  return _uploadFilesContinue(outputId);\n",
       "}\n",
       "\n",
       "// This is roughly an async generator (not supported in the browser yet),\n",
       "// where there are multiple asynchronous steps and the Python side is going\n",
       "// to poll for completion of each step.\n",
       "// This uses a Promise to block the python side on completion of each step,\n",
       "// then passes the result of the previous step as the input to the next step.\n",
       "function _uploadFilesContinue(outputId) {\n",
       "  const outputElement = document.getElementById(outputId);\n",
       "  const steps = outputElement.steps;\n",
       "\n",
       "  const next = steps.next(outputElement.lastPromiseValue);\n",
       "  return Promise.resolve(next.value.promise).then((value) => {\n",
       "    // Cache the last promise value to make it available to the next\n",
       "    // step of the generator.\n",
       "    outputElement.lastPromiseValue = value;\n",
       "    return next.value.response;\n",
       "  });\n",
       "}\n",
       "\n",
       "/**\n",
       " * Generator function which is called between each async step of the upload\n",
       " * process.\n",
       " * @param {string} inputId Element ID of the input file picker element.\n",
       " * @param {string} outputId Element ID of the output display.\n",
       " * @return {!Iterable<!Object>} Iterable of next steps.\n",
       " */\n",
       "function* uploadFilesStep(inputId, outputId) {\n",
       "  const inputElement = document.getElementById(inputId);\n",
       "  inputElement.disabled = false;\n",
       "\n",
       "  const outputElement = document.getElementById(outputId);\n",
       "  outputElement.innerHTML = '';\n",
       "\n",
       "  const pickedPromise = new Promise((resolve) => {\n",
       "    inputElement.addEventListener('change', (e) => {\n",
       "      resolve(e.target.files);\n",
       "    });\n",
       "  });\n",
       "\n",
       "  const cancel = document.createElement('button');\n",
       "  inputElement.parentElement.appendChild(cancel);\n",
       "  cancel.textContent = 'Cancel upload';\n",
       "  const cancelPromise = new Promise((resolve) => {\n",
       "    cancel.onclick = () => {\n",
       "      resolve(null);\n",
       "    };\n",
       "  });\n",
       "\n",
       "  // Wait for the user to pick the files.\n",
       "  const files = yield {\n",
       "    promise: Promise.race([pickedPromise, cancelPromise]),\n",
       "    response: {\n",
       "      action: 'starting',\n",
       "    }\n",
       "  };\n",
       "\n",
       "  cancel.remove();\n",
       "\n",
       "  // Disable the input element since further picks are not allowed.\n",
       "  inputElement.disabled = true;\n",
       "\n",
       "  if (!files) {\n",
       "    return {\n",
       "      response: {\n",
       "        action: 'complete',\n",
       "      }\n",
       "    };\n",
       "  }\n",
       "\n",
       "  for (const file of files) {\n",
       "    const li = document.createElement('li');\n",
       "    li.append(span(file.name, {fontWeight: 'bold'}));\n",
       "    li.append(span(\n",
       "        `(${file.type || 'n/a'}) - ${file.size} bytes, ` +\n",
       "        `last modified: ${\n",
       "            file.lastModifiedDate ? file.lastModifiedDate.toLocaleDateString() :\n",
       "                                    'n/a'} - `));\n",
       "    const percent = span('0% done');\n",
       "    li.appendChild(percent);\n",
       "\n",
       "    outputElement.appendChild(li);\n",
       "\n",
       "    const fileDataPromise = new Promise((resolve) => {\n",
       "      const reader = new FileReader();\n",
       "      reader.onload = (e) => {\n",
       "        resolve(e.target.result);\n",
       "      };\n",
       "      reader.readAsArrayBuffer(file);\n",
       "    });\n",
       "    // Wait for the data to be ready.\n",
       "    let fileData = yield {\n",
       "      promise: fileDataPromise,\n",
       "      response: {\n",
       "        action: 'continue',\n",
       "      }\n",
       "    };\n",
       "\n",
       "    // Use a chunked sending to avoid message size limits. See b/62115660.\n",
       "    let position = 0;\n",
       "    do {\n",
       "      const length = Math.min(fileData.byteLength - position, MAX_PAYLOAD_SIZE);\n",
       "      const chunk = new Uint8Array(fileData, position, length);\n",
       "      position += length;\n",
       "\n",
       "      const base64 = btoa(String.fromCharCode.apply(null, chunk));\n",
       "      yield {\n",
       "        response: {\n",
       "          action: 'append',\n",
       "          file: file.name,\n",
       "          data: base64,\n",
       "        },\n",
       "      };\n",
       "\n",
       "      let percentDone = fileData.byteLength === 0 ?\n",
       "          100 :\n",
       "          Math.round((position / fileData.byteLength) * 100);\n",
       "      percent.textContent = `${percentDone}% done`;\n",
       "\n",
       "    } while (position < fileData.byteLength);\n",
       "  }\n",
       "\n",
       "  // All done.\n",
       "  yield {\n",
       "    response: {\n",
       "      action: 'complete',\n",
       "    }\n",
       "  };\n",
       "}\n",
       "\n",
       "scope.google = scope.google || {};\n",
       "scope.google.colab = scope.google.colab || {};\n",
       "scope.google.colab._files = {\n",
       "  _uploadFiles,\n",
       "  _uploadFilesContinue,\n",
       "};\n",
       "})(self);\n",
       "</script> "
      ],
      "text/plain": [
       "<IPython.core.display.HTML object>"
      ]
     },
     "metadata": {},
     "output_type": "display_data"
    },
    {
     "name": "stdout",
     "output_type": "stream",
     "text": [
      "Saving starcraft_player_data.csv to starcraft_player_data.csv\n"
     ]
    }
   ],
   "source": [
    "from google.colab import files\n",
    "uploaded = files.upload()"
   ]
  },
  {
   "cell_type": "code",
   "execution_count": 3,
   "metadata": {
    "id": "4fglOodHriap"
   },
   "outputs": [],
   "source": [
    "import io"
   ]
  },
  {
   "cell_type": "markdown",
   "metadata": {},
   "source": [
    "The code reads the contents of the uploaded 'starcraft_player_data.csv' file as a pandas DataFrame using pd.read_csv()."
   ]
  },
  {
   "cell_type": "code",
   "execution_count": 4,
   "metadata": {
    "id": "Bg2d37nYrGDb"
   },
   "outputs": [],
   "source": [
    "df = pd.read_csv(io.BytesIO(uploaded['starcraft_player_data.csv']))"
   ]
  },
  {
   "cell_type": "code",
   "execution_count": 5,
   "metadata": {
    "colab": {
     "base_uri": "https://localhost:8080/",
     "height": 488
    },
    "id": "WqsciGKxrsRa",
    "outputId": "c664d3c7-0ce3-4ad1-8d14-4c46571fbb42"
   },
   "outputs": [
    {
     "data": {
      "text/html": [
       "\n",
       "  <div id=\"df-bcb4bd90-9435-432e-90b5-9716ca6316ce\">\n",
       "    <div class=\"colab-df-container\">\n",
       "      <div>\n",
       "<style scoped>\n",
       "    .dataframe tbody tr th:only-of-type {\n",
       "        vertical-align: middle;\n",
       "    }\n",
       "\n",
       "    .dataframe tbody tr th {\n",
       "        vertical-align: top;\n",
       "    }\n",
       "\n",
       "    .dataframe thead th {\n",
       "        text-align: right;\n",
       "    }\n",
       "</style>\n",
       "<table border=\"1\" class=\"dataframe\">\n",
       "  <thead>\n",
       "    <tr style=\"text-align: right;\">\n",
       "      <th></th>\n",
       "      <th>GameID</th>\n",
       "      <th>LeagueIndex</th>\n",
       "      <th>Age</th>\n",
       "      <th>HoursPerWeek</th>\n",
       "      <th>TotalHours</th>\n",
       "      <th>APM</th>\n",
       "      <th>SelectByHotkeys</th>\n",
       "      <th>AssignToHotkeys</th>\n",
       "      <th>UniqueHotkeys</th>\n",
       "      <th>MinimapAttacks</th>\n",
       "      <th>MinimapRightClicks</th>\n",
       "      <th>NumberOfPACs</th>\n",
       "      <th>GapBetweenPACs</th>\n",
       "      <th>ActionLatency</th>\n",
       "      <th>ActionsInPAC</th>\n",
       "      <th>TotalMapExplored</th>\n",
       "      <th>WorkersMade</th>\n",
       "      <th>UniqueUnitsMade</th>\n",
       "      <th>ComplexUnitsMade</th>\n",
       "      <th>ComplexAbilitiesUsed</th>\n",
       "    </tr>\n",
       "  </thead>\n",
       "  <tbody>\n",
       "    <tr>\n",
       "      <th>0</th>\n",
       "      <td>52</td>\n",
       "      <td>5</td>\n",
       "      <td>27</td>\n",
       "      <td>10</td>\n",
       "      <td>3000</td>\n",
       "      <td>143.7180</td>\n",
       "      <td>0.003515</td>\n",
       "      <td>0.000220</td>\n",
       "      <td>7</td>\n",
       "      <td>0.000110</td>\n",
       "      <td>0.000392</td>\n",
       "      <td>0.004849</td>\n",
       "      <td>32.6677</td>\n",
       "      <td>40.8673</td>\n",
       "      <td>4.7508</td>\n",
       "      <td>28</td>\n",
       "      <td>0.001397</td>\n",
       "      <td>6</td>\n",
       "      <td>0.000000</td>\n",
       "      <td>0.000000</td>\n",
       "    </tr>\n",
       "    <tr>\n",
       "      <th>1</th>\n",
       "      <td>55</td>\n",
       "      <td>5</td>\n",
       "      <td>23</td>\n",
       "      <td>10</td>\n",
       "      <td>5000</td>\n",
       "      <td>129.2322</td>\n",
       "      <td>0.003304</td>\n",
       "      <td>0.000259</td>\n",
       "      <td>4</td>\n",
       "      <td>0.000294</td>\n",
       "      <td>0.000432</td>\n",
       "      <td>0.004307</td>\n",
       "      <td>32.9194</td>\n",
       "      <td>42.3454</td>\n",
       "      <td>4.8434</td>\n",
       "      <td>22</td>\n",
       "      <td>0.001193</td>\n",
       "      <td>5</td>\n",
       "      <td>0.000000</td>\n",
       "      <td>0.000208</td>\n",
       "    </tr>\n",
       "    <tr>\n",
       "      <th>2</th>\n",
       "      <td>56</td>\n",
       "      <td>4</td>\n",
       "      <td>30</td>\n",
       "      <td>10</td>\n",
       "      <td>200</td>\n",
       "      <td>69.9612</td>\n",
       "      <td>0.001101</td>\n",
       "      <td>0.000336</td>\n",
       "      <td>4</td>\n",
       "      <td>0.000294</td>\n",
       "      <td>0.000461</td>\n",
       "      <td>0.002926</td>\n",
       "      <td>44.6475</td>\n",
       "      <td>75.3548</td>\n",
       "      <td>4.0430</td>\n",
       "      <td>22</td>\n",
       "      <td>0.000745</td>\n",
       "      <td>6</td>\n",
       "      <td>0.000000</td>\n",
       "      <td>0.000189</td>\n",
       "    </tr>\n",
       "    <tr>\n",
       "      <th>3</th>\n",
       "      <td>57</td>\n",
       "      <td>3</td>\n",
       "      <td>19</td>\n",
       "      <td>20</td>\n",
       "      <td>400</td>\n",
       "      <td>107.6016</td>\n",
       "      <td>0.001034</td>\n",
       "      <td>0.000213</td>\n",
       "      <td>1</td>\n",
       "      <td>0.000053</td>\n",
       "      <td>0.000543</td>\n",
       "      <td>0.003783</td>\n",
       "      <td>29.2203</td>\n",
       "      <td>53.7352</td>\n",
       "      <td>4.9155</td>\n",
       "      <td>19</td>\n",
       "      <td>0.000426</td>\n",
       "      <td>7</td>\n",
       "      <td>0.000000</td>\n",
       "      <td>0.000384</td>\n",
       "    </tr>\n",
       "    <tr>\n",
       "      <th>4</th>\n",
       "      <td>58</td>\n",
       "      <td>3</td>\n",
       "      <td>32</td>\n",
       "      <td>10</td>\n",
       "      <td>500</td>\n",
       "      <td>122.8908</td>\n",
       "      <td>0.001136</td>\n",
       "      <td>0.000327</td>\n",
       "      <td>2</td>\n",
       "      <td>0.000000</td>\n",
       "      <td>0.001329</td>\n",
       "      <td>0.002368</td>\n",
       "      <td>22.6885</td>\n",
       "      <td>62.0813</td>\n",
       "      <td>9.3740</td>\n",
       "      <td>15</td>\n",
       "      <td>0.001174</td>\n",
       "      <td>4</td>\n",
       "      <td>0.000000</td>\n",
       "      <td>0.000019</td>\n",
       "    </tr>\n",
       "    <tr>\n",
       "      <th>...</th>\n",
       "      <td>...</td>\n",
       "      <td>...</td>\n",
       "      <td>...</td>\n",
       "      <td>...</td>\n",
       "      <td>...</td>\n",
       "      <td>...</td>\n",
       "      <td>...</td>\n",
       "      <td>...</td>\n",
       "      <td>...</td>\n",
       "      <td>...</td>\n",
       "      <td>...</td>\n",
       "      <td>...</td>\n",
       "      <td>...</td>\n",
       "      <td>...</td>\n",
       "      <td>...</td>\n",
       "      <td>...</td>\n",
       "      <td>...</td>\n",
       "      <td>...</td>\n",
       "      <td>...</td>\n",
       "      <td>...</td>\n",
       "    </tr>\n",
       "    <tr>\n",
       "      <th>3390</th>\n",
       "      <td>10089</td>\n",
       "      <td>8</td>\n",
       "      <td>?</td>\n",
       "      <td>?</td>\n",
       "      <td>?</td>\n",
       "      <td>259.6296</td>\n",
       "      <td>0.020425</td>\n",
       "      <td>0.000743</td>\n",
       "      <td>9</td>\n",
       "      <td>0.000621</td>\n",
       "      <td>0.000146</td>\n",
       "      <td>0.004555</td>\n",
       "      <td>18.6059</td>\n",
       "      <td>42.8342</td>\n",
       "      <td>6.2754</td>\n",
       "      <td>46</td>\n",
       "      <td>0.000877</td>\n",
       "      <td>5</td>\n",
       "      <td>0.000000</td>\n",
       "      <td>0.000000</td>\n",
       "    </tr>\n",
       "    <tr>\n",
       "      <th>3391</th>\n",
       "      <td>10090</td>\n",
       "      <td>8</td>\n",
       "      <td>?</td>\n",
       "      <td>?</td>\n",
       "      <td>?</td>\n",
       "      <td>314.6700</td>\n",
       "      <td>0.028043</td>\n",
       "      <td>0.001157</td>\n",
       "      <td>10</td>\n",
       "      <td>0.000246</td>\n",
       "      <td>0.001083</td>\n",
       "      <td>0.004259</td>\n",
       "      <td>14.3023</td>\n",
       "      <td>36.1156</td>\n",
       "      <td>7.1965</td>\n",
       "      <td>16</td>\n",
       "      <td>0.000788</td>\n",
       "      <td>4</td>\n",
       "      <td>0.000000</td>\n",
       "      <td>0.000000</td>\n",
       "    </tr>\n",
       "    <tr>\n",
       "      <th>3392</th>\n",
       "      <td>10092</td>\n",
       "      <td>8</td>\n",
       "      <td>?</td>\n",
       "      <td>?</td>\n",
       "      <td>?</td>\n",
       "      <td>299.4282</td>\n",
       "      <td>0.028341</td>\n",
       "      <td>0.000860</td>\n",
       "      <td>7</td>\n",
       "      <td>0.000338</td>\n",
       "      <td>0.000169</td>\n",
       "      <td>0.004439</td>\n",
       "      <td>12.4028</td>\n",
       "      <td>39.5156</td>\n",
       "      <td>6.3979</td>\n",
       "      <td>19</td>\n",
       "      <td>0.001260</td>\n",
       "      <td>4</td>\n",
       "      <td>0.000000</td>\n",
       "      <td>0.000000</td>\n",
       "    </tr>\n",
       "    <tr>\n",
       "      <th>3393</th>\n",
       "      <td>10094</td>\n",
       "      <td>8</td>\n",
       "      <td>?</td>\n",
       "      <td>?</td>\n",
       "      <td>?</td>\n",
       "      <td>375.8664</td>\n",
       "      <td>0.036436</td>\n",
       "      <td>0.000594</td>\n",
       "      <td>5</td>\n",
       "      <td>0.000204</td>\n",
       "      <td>0.000780</td>\n",
       "      <td>0.004346</td>\n",
       "      <td>11.6910</td>\n",
       "      <td>34.8547</td>\n",
       "      <td>7.9615</td>\n",
       "      <td>15</td>\n",
       "      <td>0.000613</td>\n",
       "      <td>6</td>\n",
       "      <td>0.000000</td>\n",
       "      <td>0.000631</td>\n",
       "    </tr>\n",
       "    <tr>\n",
       "      <th>3394</th>\n",
       "      <td>10095</td>\n",
       "      <td>8</td>\n",
       "      <td>?</td>\n",
       "      <td>?</td>\n",
       "      <td>?</td>\n",
       "      <td>348.3576</td>\n",
       "      <td>0.029855</td>\n",
       "      <td>0.000811</td>\n",
       "      <td>4</td>\n",
       "      <td>0.000224</td>\n",
       "      <td>0.001315</td>\n",
       "      <td>0.005566</td>\n",
       "      <td>20.0537</td>\n",
       "      <td>33.5142</td>\n",
       "      <td>6.3719</td>\n",
       "      <td>27</td>\n",
       "      <td>0.001566</td>\n",
       "      <td>7</td>\n",
       "      <td>0.000457</td>\n",
       "      <td>0.000895</td>\n",
       "    </tr>\n",
       "  </tbody>\n",
       "</table>\n",
       "<p>3395 rows × 20 columns</p>\n",
       "</div>\n",
       "      <button class=\"colab-df-convert\" onclick=\"convertToInteractive('df-bcb4bd90-9435-432e-90b5-9716ca6316ce')\"\n",
       "              title=\"Convert this dataframe to an interactive table.\"\n",
       "              style=\"display:none;\">\n",
       "        \n",
       "  <svg xmlns=\"http://www.w3.org/2000/svg\" height=\"24px\"viewBox=\"0 0 24 24\"\n",
       "       width=\"24px\">\n",
       "    <path d=\"M0 0h24v24H0V0z\" fill=\"none\"/>\n",
       "    <path d=\"M18.56 5.44l.94 2.06.94-2.06 2.06-.94-2.06-.94-.94-2.06-.94 2.06-2.06.94zm-11 1L8.5 8.5l.94-2.06 2.06-.94-2.06-.94L8.5 2.5l-.94 2.06-2.06.94zm10 10l.94 2.06.94-2.06 2.06-.94-2.06-.94-.94-2.06-.94 2.06-2.06.94z\"/><path d=\"M17.41 7.96l-1.37-1.37c-.4-.4-.92-.59-1.43-.59-.52 0-1.04.2-1.43.59L10.3 9.45l-7.72 7.72c-.78.78-.78 2.05 0 2.83L4 21.41c.39.39.9.59 1.41.59.51 0 1.02-.2 1.41-.59l7.78-7.78 2.81-2.81c.8-.78.8-2.07 0-2.86zM5.41 20L4 18.59l7.72-7.72 1.47 1.35L5.41 20z\"/>\n",
       "  </svg>\n",
       "      </button>\n",
       "      \n",
       "  <style>\n",
       "    .colab-df-container {\n",
       "      display:flex;\n",
       "      flex-wrap:wrap;\n",
       "      gap: 12px;\n",
       "    }\n",
       "\n",
       "    .colab-df-convert {\n",
       "      background-color: #E8F0FE;\n",
       "      border: none;\n",
       "      border-radius: 50%;\n",
       "      cursor: pointer;\n",
       "      display: none;\n",
       "      fill: #1967D2;\n",
       "      height: 32px;\n",
       "      padding: 0 0 0 0;\n",
       "      width: 32px;\n",
       "    }\n",
       "\n",
       "    .colab-df-convert:hover {\n",
       "      background-color: #E2EBFA;\n",
       "      box-shadow: 0px 1px 2px rgba(60, 64, 67, 0.3), 0px 1px 3px 1px rgba(60, 64, 67, 0.15);\n",
       "      fill: #174EA6;\n",
       "    }\n",
       "\n",
       "    [theme=dark] .colab-df-convert {\n",
       "      background-color: #3B4455;\n",
       "      fill: #D2E3FC;\n",
       "    }\n",
       "\n",
       "    [theme=dark] .colab-df-convert:hover {\n",
       "      background-color: #434B5C;\n",
       "      box-shadow: 0px 1px 3px 1px rgba(0, 0, 0, 0.15);\n",
       "      filter: drop-shadow(0px 1px 2px rgba(0, 0, 0, 0.3));\n",
       "      fill: #FFFFFF;\n",
       "    }\n",
       "  </style>\n",
       "\n",
       "      <script>\n",
       "        const buttonEl =\n",
       "          document.querySelector('#df-bcb4bd90-9435-432e-90b5-9716ca6316ce button.colab-df-convert');\n",
       "        buttonEl.style.display =\n",
       "          google.colab.kernel.accessAllowed ? 'block' : 'none';\n",
       "\n",
       "        async function convertToInteractive(key) {\n",
       "          const element = document.querySelector('#df-bcb4bd90-9435-432e-90b5-9716ca6316ce');\n",
       "          const dataTable =\n",
       "            await google.colab.kernel.invokeFunction('convertToInteractive',\n",
       "                                                     [key], {});\n",
       "          if (!dataTable) return;\n",
       "\n",
       "          const docLinkHtml = 'Like what you see? Visit the ' +\n",
       "            '<a target=\"_blank\" href=https://colab.research.google.com/notebooks/data_table.ipynb>data table notebook</a>'\n",
       "            + ' to learn more about interactive tables.';\n",
       "          element.innerHTML = '';\n",
       "          dataTable['output_type'] = 'display_data';\n",
       "          await google.colab.output.renderOutput(dataTable, element);\n",
       "          const docLink = document.createElement('div');\n",
       "          docLink.innerHTML = docLinkHtml;\n",
       "          element.appendChild(docLink);\n",
       "        }\n",
       "      </script>\n",
       "    </div>\n",
       "  </div>\n",
       "  "
      ],
      "text/plain": [
       "      GameID  LeagueIndex Age HoursPerWeek TotalHours       APM  \\\n",
       "0         52            5  27           10       3000  143.7180   \n",
       "1         55            5  23           10       5000  129.2322   \n",
       "2         56            4  30           10        200   69.9612   \n",
       "3         57            3  19           20        400  107.6016   \n",
       "4         58            3  32           10        500  122.8908   \n",
       "...      ...          ...  ..          ...        ...       ...   \n",
       "3390   10089            8   ?            ?          ?  259.6296   \n",
       "3391   10090            8   ?            ?          ?  314.6700   \n",
       "3392   10092            8   ?            ?          ?  299.4282   \n",
       "3393   10094            8   ?            ?          ?  375.8664   \n",
       "3394   10095            8   ?            ?          ?  348.3576   \n",
       "\n",
       "      SelectByHotkeys  AssignToHotkeys  UniqueHotkeys  MinimapAttacks  \\\n",
       "0            0.003515         0.000220              7        0.000110   \n",
       "1            0.003304         0.000259              4        0.000294   \n",
       "2            0.001101         0.000336              4        0.000294   \n",
       "3            0.001034         0.000213              1        0.000053   \n",
       "4            0.001136         0.000327              2        0.000000   \n",
       "...               ...              ...            ...             ...   \n",
       "3390         0.020425         0.000743              9        0.000621   \n",
       "3391         0.028043         0.001157             10        0.000246   \n",
       "3392         0.028341         0.000860              7        0.000338   \n",
       "3393         0.036436         0.000594              5        0.000204   \n",
       "3394         0.029855         0.000811              4        0.000224   \n",
       "\n",
       "      MinimapRightClicks  NumberOfPACs  GapBetweenPACs  ActionLatency  \\\n",
       "0               0.000392      0.004849         32.6677        40.8673   \n",
       "1               0.000432      0.004307         32.9194        42.3454   \n",
       "2               0.000461      0.002926         44.6475        75.3548   \n",
       "3               0.000543      0.003783         29.2203        53.7352   \n",
       "4               0.001329      0.002368         22.6885        62.0813   \n",
       "...                  ...           ...             ...            ...   \n",
       "3390            0.000146      0.004555         18.6059        42.8342   \n",
       "3391            0.001083      0.004259         14.3023        36.1156   \n",
       "3392            0.000169      0.004439         12.4028        39.5156   \n",
       "3393            0.000780      0.004346         11.6910        34.8547   \n",
       "3394            0.001315      0.005566         20.0537        33.5142   \n",
       "\n",
       "      ActionsInPAC  TotalMapExplored  WorkersMade  UniqueUnitsMade  \\\n",
       "0           4.7508                28     0.001397                6   \n",
       "1           4.8434                22     0.001193                5   \n",
       "2           4.0430                22     0.000745                6   \n",
       "3           4.9155                19     0.000426                7   \n",
       "4           9.3740                15     0.001174                4   \n",
       "...            ...               ...          ...              ...   \n",
       "3390        6.2754                46     0.000877                5   \n",
       "3391        7.1965                16     0.000788                4   \n",
       "3392        6.3979                19     0.001260                4   \n",
       "3393        7.9615                15     0.000613                6   \n",
       "3394        6.3719                27     0.001566                7   \n",
       "\n",
       "      ComplexUnitsMade  ComplexAbilitiesUsed  \n",
       "0             0.000000              0.000000  \n",
       "1             0.000000              0.000208  \n",
       "2             0.000000              0.000189  \n",
       "3             0.000000              0.000384  \n",
       "4             0.000000              0.000019  \n",
       "...                ...                   ...  \n",
       "3390          0.000000              0.000000  \n",
       "3391          0.000000              0.000000  \n",
       "3392          0.000000              0.000000  \n",
       "3393          0.000000              0.000631  \n",
       "3394          0.000457              0.000895  \n",
       "\n",
       "[3395 rows x 20 columns]"
      ]
     },
     "execution_count": 5,
     "metadata": {},
     "output_type": "execute_result"
    }
   ],
   "source": [
    "df"
   ]
  },
  {
   "cell_type": "code",
   "execution_count": 6,
   "metadata": {
    "colab": {
     "base_uri": "https://localhost:8080/"
    },
    "id": "QjFMcgcSsOAL",
    "outputId": "57a76145-6dc0-41be-d0c9-89b433f066a4"
   },
   "outputs": [
    {
     "data": {
      "text/plain": [
       "Index(['GameID', 'LeagueIndex', 'Age', 'HoursPerWeek', 'TotalHours', 'APM',\n",
       "       'SelectByHotkeys', 'AssignToHotkeys', 'UniqueHotkeys', 'MinimapAttacks',\n",
       "       'MinimapRightClicks', 'NumberOfPACs', 'GapBetweenPACs', 'ActionLatency',\n",
       "       'ActionsInPAC', 'TotalMapExplored', 'WorkersMade', 'UniqueUnitsMade',\n",
       "       'ComplexUnitsMade', 'ComplexAbilitiesUsed'],\n",
       "      dtype='object')"
      ]
     },
     "execution_count": 6,
     "metadata": {},
     "output_type": "execute_result"
    }
   ],
   "source": [
    "df.columns #return the list of column names in the Dataframe df"
   ]
  },
  {
   "cell_type": "markdown",
   "metadata": {},
   "source": [
    "A new DataFrame named \"data\" is created from an existing DataFrame \"df\" using the code \"data = pd.DataFrame(df),\" thereby creating a duplicate of the original DataFrame."
   ]
  },
  {
   "cell_type": "code",
   "execution_count": 7,
   "metadata": {
    "id": "jDULv5lbNHuZ"
   },
   "outputs": [],
   "source": [
    "data=pd.DataFrame(df) "
   ]
  },
  {
   "cell_type": "markdown",
   "metadata": {},
   "source": [
    "It replaces all occurrences of the string '?' in the DataFrame df with the mode (most frequent value) of each respective column."
   ]
  },
  {
   "cell_type": "code",
   "execution_count": 8,
   "metadata": {
    "id": "2ehli9iTH1lf"
   },
   "outputs": [],
   "source": [
    "data = df.replace('?', pd.Series(df.mode().iloc[0]))"
   ]
  },
  {
   "cell_type": "code",
   "execution_count": 9,
   "metadata": {
    "colab": {
     "base_uri": "https://localhost:8080/"
    },
    "id": "9k28UH6rIrM2",
    "outputId": "06b739c5-a007-44f2-b94c-cbbb65aaa6fd"
   },
   "outputs": [
    {
     "name": "stdout",
     "output_type": "stream",
     "text": [
      "GameID                    int64\n",
      "LeagueIndex               int64\n",
      "Age                      object\n",
      "HoursPerWeek             object\n",
      "TotalHours               object\n",
      "APM                     float64\n",
      "SelectByHotkeys         float64\n",
      "AssignToHotkeys         float64\n",
      "UniqueHotkeys             int64\n",
      "MinimapAttacks          float64\n",
      "MinimapRightClicks      float64\n",
      "NumberOfPACs            float64\n",
      "GapBetweenPACs          float64\n",
      "ActionLatency           float64\n",
      "ActionsInPAC            float64\n",
      "TotalMapExplored          int64\n",
      "WorkersMade             float64\n",
      "UniqueUnitsMade           int64\n",
      "ComplexUnitsMade        float64\n",
      "ComplexAbilitiesUsed    float64\n",
      "dtype: object\n"
     ]
    }
   ],
   "source": [
    "print(data.dtypes)"
   ]
  },
  {
   "cell_type": "markdown",
   "metadata": {},
   "source": [
    "It returns the count of unique values in the 'LeagueIndex' column of the DataFrame df, providing a frequency distribution of each value."
   ]
  },
  {
   "cell_type": "code",
   "execution_count": 10,
   "metadata": {
    "colab": {
     "base_uri": "https://localhost:8080/"
    },
    "id": "D4rWuvBjNK3L",
    "outputId": "9a256d65-fa5b-4175-e981-ffbdec4ae6e3"
   },
   "outputs": [
    {
     "data": {
      "text/plain": [
       "4    811\n",
       "5    806\n",
       "6    621\n",
       "3    553\n",
       "2    347\n",
       "1    167\n",
       "8     55\n",
       "7     35\n",
       "Name: LeagueIndex, dtype: int64"
      ]
     },
     "execution_count": 10,
     "metadata": {},
     "output_type": "execute_result"
    }
   ],
   "source": [
    "df['LeagueIndex'].value_counts()"
   ]
  },
  {
   "cell_type": "markdown",
   "metadata": {},
   "source": [
    "It removes the 'GameID' column from the DataFrame data, modifying the DataFrame in-place by dropping the specified column."
   ]
  },
  {
   "cell_type": "code",
   "execution_count": 11,
   "metadata": {
    "id": "VvwwjKhyPBzd"
   },
   "outputs": [],
   "source": [
    "data.drop(['GameID'], axis=1, inplace=True)"
   ]
  },
  {
   "cell_type": "code",
   "execution_count": 12,
   "metadata": {
    "id": "4AVY0psHRExy"
   },
   "outputs": [],
   "source": [
    "#It contains the names of columns ('Age', 'HoursPerWeek', 'TotalHours') that represent numeric data in a DataFrame.\n",
    "numeric_cols = ['Age', 'HoursPerWeek', 'TotalHours'] "
   ]
  },
  {
   "cell_type": "code",
   "execution_count": 13,
   "metadata": {
    "id": "Z2OhTnhlQT-3"
   },
   "outputs": [],
   "source": [
    "#It converts the columns specified in the `numeric_cols` list of the DataFrame data to the integer data type, updating the DataFrame with the converted values.\n",
    "data[numeric_cols] = data[numeric_cols].astype(int)"
   ]
  },
  {
   "cell_type": "code",
   "execution_count": 14,
   "metadata": {
    "colab": {
     "base_uri": "https://localhost:8080/"
    },
    "id": "wcSCWZHzVVyw",
    "outputId": "dd79a12b-6d04-4092-f6cc-702c01624583"
   },
   "outputs": [
    {
     "name": "stdout",
     "output_type": "stream",
     "text": [
      "LeagueIndex               int64\n",
      "Age                       int64\n",
      "HoursPerWeek              int64\n",
      "TotalHours                int64\n",
      "APM                     float64\n",
      "SelectByHotkeys         float64\n",
      "AssignToHotkeys         float64\n",
      "UniqueHotkeys             int64\n",
      "MinimapAttacks          float64\n",
      "MinimapRightClicks      float64\n",
      "NumberOfPACs            float64\n",
      "GapBetweenPACs          float64\n",
      "ActionLatency           float64\n",
      "ActionsInPAC            float64\n",
      "TotalMapExplored          int64\n",
      "WorkersMade             float64\n",
      "UniqueUnitsMade           int64\n",
      "ComplexUnitsMade        float64\n",
      "ComplexAbilitiesUsed    float64\n",
      "dtype: object\n"
     ]
    }
   ],
   "source": [
    "print(data.dtypes)"
   ]
  },
  {
   "cell_type": "markdown",
   "metadata": {
    "id": "iRuB7RD0D6Bc"
   },
   "source": [
    "**Heatmap of Correaltion of features with Target Variable(LeagueIndex)**\n"
   ]
  },
  {
   "cell_type": "code",
   "execution_count": 15,
   "metadata": {
    "id": "l3Sq8mQoQ4rR"
   },
   "outputs": [],
   "source": [
    "import matplotlib.pyplot as plt\n",
    "import seaborn as sns"
   ]
  },
  {
   "cell_type": "code",
   "execution_count": 16,
   "metadata": {
    "id": "aGVZBypSoDh_"
   },
   "outputs": [],
   "source": [
    "#It calculates the correlation between each column (except \"LeagueIndex\") and the \"LeagueIndex\" column of the DataFrame `data`, storing the correlation values in the `a_corr` Series.\n",
    "a_corr = data.drop(\"LeagueIndex\", axis=1).apply(lambda x: x.corr(data.LeagueIndex))"
   ]
  },
  {
   "cell_type": "markdown",
   "metadata": {},
   "source": [
    "The code fig, ax = plt.subplots(figsize=(10, 10)) creates a figure and axes object with a specified size for the heatmap plot, and sns.heatmap(a_corr.to_frame(), annot=True, cmap='coolwarm') generates a heatmap using the correlation values in a_corr, with annotations and a coolwarm color map, which is then displayed using plt.show(), while ax.set_xlabel(\"data\") and ax.set_ylabel(\"Features\") set the x and y axis labels respectively."
   ]
  },
  {
   "cell_type": "code",
   "execution_count": 17,
   "metadata": {
    "colab": {
     "base_uri": "https://localhost:8080/",
     "height": 850
    },
    "id": "kj5JGmzXqIqX",
    "outputId": "7918ccdf-0544-426e-d707-d082c639fe31"
   },
   "outputs": [
    {
     "data": {
      "image/png": "[encoded data removed]",
      "text/plain": [
       "<Figure size 1000x1000 with 2 Axes>"
      ]
     },
     "metadata": {},
     "output_type": "display_data"
    }
   ],
   "source": [
    "fig, ax = plt.subplots(figsize=(10, 10))\n",
    "sns.heatmap(a_corr.to_frame(), annot=True, cmap='coolwarm')\n",
    "ax.set_xlabel(\"data\")\n",
    "ax.set_ylabel(\"Features\")\n",
    "plt.show()"
   ]
  },
  {
   "cell_type": "markdown",
   "metadata": {},
   "source": [
    "The code X = data.drop('LeagueIndex', axis=1) creates a new DataFrame X by dropping the 'LeagueIndex' column from the original DataFrame data, while y = data['LeagueIndex'] assigns the 'LeagueIndex' column of data to the Series y as the target variable."
   ]
  },
  {
   "cell_type": "code",
   "execution_count": 18,
   "metadata": {
    "id": "pGIyAUTqSsYg"
   },
   "outputs": [],
   "source": [
    "X = data.drop('LeagueIndex', axis=1)\n",
    "y = data['LeagueIndex']"
   ]
  },
  {
   "cell_type": "markdown",
   "metadata": {},
   "source": [
    "The code imports the StandardScaler class from sklearn.preprocessing, defines a list of column names, initializes a StandardScaler object, and applies the standardization transformation to the specified columns in the DataFrame X, scaling the values to have zero mean and unit variance."
   ]
  },
  {
   "cell_type": "code",
   "execution_count": 19,
   "metadata": {
    "id": "o2HobII_WWkb"
   },
   "outputs": [],
   "source": [
    "from sklearn.preprocessing import StandardScaler\n",
    "\n",
    "columns = ['Age', 'HoursPerWeek', 'TotalHours', 'APM', 'SelectByHotkeys',\n",
    "       'AssignToHotkeys', 'UniqueHotkeys', 'MinimapAttacks',\n",
    "       'MinimapRightClicks', 'NumberOfPACs', 'GapBetweenPACs', 'ActionLatency',\n",
    "       'ActionsInPAC', 'TotalMapExplored', 'WorkersMade', 'UniqueUnitsMade',\n",
    "       'ComplexUnitsMade', 'ComplexAbilitiesUsed']\n",
    "\n",
    "scaler = StandardScaler()\n",
    "\n",
    "X[columns] = scaler.fit_transform(X[columns])"
   ]
  },
  {
   "cell_type": "code",
   "execution_count": 20,
   "metadata": {
    "colab": {
     "base_uri": "https://localhost:8080/",
     "height": 488
    },
    "id": "ur00NeoRWfCE",
    "outputId": "d489483c-fdb1-4f65-9beb-4e306a8ac191"
   },
   "outputs": [
    {
     "data": {
      "text/html": [
       "\n",
       "  <div id=\"df-56e1a0ff-09ee-44d4-acdf-fefdf79eaf13\">\n",
       "    <div class=\"colab-df-container\">\n",
       "      <div>\n",
       "<style scoped>\n",
       "    .dataframe tbody tr th:only-of-type {\n",
       "        vertical-align: middle;\n",
       "    }\n",
       "\n",
       "    .dataframe tbody tr th {\n",
       "        vertical-align: top;\n",
       "    }\n",
       "\n",
       "    .dataframe thead th {\n",
       "        text-align: right;\n",
       "    }\n",
       "</style>\n",
       "<table border=\"1\" class=\"dataframe\">\n",
       "  <thead>\n",
       "    <tr style=\"text-align: right;\">\n",
       "      <th></th>\n",
       "      <th>Age</th>\n",
       "      <th>HoursPerWeek</th>\n",
       "      <th>TotalHours</th>\n",
       "      <th>APM</th>\n",
       "      <th>SelectByHotkeys</th>\n",
       "      <th>AssignToHotkeys</th>\n",
       "      <th>UniqueHotkeys</th>\n",
       "      <th>MinimapAttacks</th>\n",
       "      <th>MinimapRightClicks</th>\n",
       "      <th>NumberOfPACs</th>\n",
       "      <th>GapBetweenPACs</th>\n",
       "      <th>ActionLatency</th>\n",
       "      <th>ActionsInPAC</th>\n",
       "      <th>TotalMapExplored</th>\n",
       "      <th>WorkersMade</th>\n",
       "      <th>UniqueUnitsMade</th>\n",
       "      <th>ComplexUnitsMade</th>\n",
       "      <th>ComplexAbilitiesUsed</th>\n",
       "    </tr>\n",
       "  </thead>\n",
       "  <tbody>\n",
       "    <tr>\n",
       "      <th>0</th>\n",
       "      <td>1.287812</td>\n",
       "      <td>-0.489087</td>\n",
       "      <td>0.119240</td>\n",
       "      <td>0.513521</td>\n",
       "      <td>-0.148288</td>\n",
       "      <td>-0.684207</td>\n",
       "      <td>1.116679</td>\n",
       "      <td>0.069594</td>\n",
       "      <td>0.012948</td>\n",
       "      <td>1.397121</td>\n",
       "      <td>-0.448594</td>\n",
       "      <td>-1.189024</td>\n",
       "      <td>-0.349380</td>\n",
       "      <td>0.789750</td>\n",
       "      <td>0.703205</td>\n",
       "      <td>-0.287506</td>\n",
       "      <td>-0.535072</td>\n",
       "      <td>-0.534971</td>\n",
       "    </tr>\n",
       "    <tr>\n",
       "      <th>1</th>\n",
       "      <td>0.330116</td>\n",
       "      <td>-0.489087</td>\n",
       "      <td>0.235724</td>\n",
       "      <td>0.234613</td>\n",
       "      <td>-0.188288</td>\n",
       "      <td>-0.507399</td>\n",
       "      <td>-0.154515</td>\n",
       "      <td>1.180306</td>\n",
       "      <td>0.119380</td>\n",
       "      <td>0.850859</td>\n",
       "      <td>-0.433919</td>\n",
       "      <td>-1.112184</td>\n",
       "      <td>-0.287424</td>\n",
       "      <td>-0.017719</td>\n",
       "      <td>0.311824</td>\n",
       "      <td>-0.825886</td>\n",
       "      <td>-0.535072</td>\n",
       "      <td>0.247698</td>\n",
       "    </tr>\n",
       "    <tr>\n",
       "      <th>2</th>\n",
       "      <td>2.006085</td>\n",
       "      <td>-0.489087</td>\n",
       "      <td>-0.043838</td>\n",
       "      <td>-0.906582</td>\n",
       "      <td>-0.605182</td>\n",
       "      <td>-0.168988</td>\n",
       "      <td>-0.154515</td>\n",
       "      <td>1.177699</td>\n",
       "      <td>0.196244</td>\n",
       "      <td>-0.541384</td>\n",
       "      <td>0.249894</td>\n",
       "      <td>0.603835</td>\n",
       "      <td>-0.822947</td>\n",
       "      <td>-0.017719</td>\n",
       "      <td>-0.553320</td>\n",
       "      <td>-0.287506</td>\n",
       "      <td>-0.535072</td>\n",
       "      <td>0.176773</td>\n",
       "    </tr>\n",
       "    <tr>\n",
       "      <th>3</th>\n",
       "      <td>-0.627580</td>\n",
       "      <td>0.352244</td>\n",
       "      <td>-0.032190</td>\n",
       "      <td>-0.181859</td>\n",
       "      <td>-0.617967</td>\n",
       "      <td>-0.713535</td>\n",
       "      <td>-1.425710</td>\n",
       "      <td>-0.271524</td>\n",
       "      <td>0.413780</td>\n",
       "      <td>0.322194</td>\n",
       "      <td>-0.649597</td>\n",
       "      <td>-0.520076</td>\n",
       "      <td>-0.239184</td>\n",
       "      <td>-0.421454</td>\n",
       "      <td>-1.166793</td>\n",
       "      <td>0.250874</td>\n",
       "      <td>-0.535072</td>\n",
       "      <td>0.911366</td>\n",
       "    </tr>\n",
       "    <tr>\n",
       "      <th>4</th>\n",
       "      <td>2.484933</td>\n",
       "      <td>-0.489087</td>\n",
       "      <td>-0.026366</td>\n",
       "      <td>0.112517</td>\n",
       "      <td>-0.598573</td>\n",
       "      <td>-0.205646</td>\n",
       "      <td>-1.001978</td>\n",
       "      <td>-0.592757</td>\n",
       "      <td>2.496707</td>\n",
       "      <td>-1.103252</td>\n",
       "      <td>-1.030437</td>\n",
       "      <td>-0.086198</td>\n",
       "      <td>2.743858</td>\n",
       "      <td>-0.959766</td>\n",
       "      <td>0.275210</td>\n",
       "      <td>-1.364267</td>\n",
       "      <td>-0.535072</td>\n",
       "      <td>-0.462371</td>\n",
       "    </tr>\n",
       "    <tr>\n",
       "      <th>...</th>\n",
       "      <td>...</td>\n",
       "      <td>...</td>\n",
       "      <td>...</td>\n",
       "      <td>...</td>\n",
       "      <td>...</td>\n",
       "      <td>...</td>\n",
       "      <td>...</td>\n",
       "      <td>...</td>\n",
       "      <td>...</td>\n",
       "      <td>...</td>\n",
       "      <td>...</td>\n",
       "      <td>...</td>\n",
       "      <td>...</td>\n",
       "      <td>...</td>\n",
       "      <td>...</td>\n",
       "      <td>...</td>\n",
       "      <td>...</td>\n",
       "      <td>...</td>\n",
       "    </tr>\n",
       "    <tr>\n",
       "      <th>3390</th>\n",
       "      <td>-0.388156</td>\n",
       "      <td>-0.489087</td>\n",
       "      <td>-0.026366</td>\n",
       "      <td>2.745266</td>\n",
       "      <td>3.052181</td>\n",
       "      <td>1.642434</td>\n",
       "      <td>1.964142</td>\n",
       "      <td>3.152651</td>\n",
       "      <td>-0.640093</td>\n",
       "      <td>1.100957</td>\n",
       "      <td>-1.268475</td>\n",
       "      <td>-1.086773</td>\n",
       "      <td>0.670682</td>\n",
       "      <td>3.212157</td>\n",
       "      <td>-0.298200</td>\n",
       "      <td>-0.825886</td>\n",
       "      <td>-0.535072</td>\n",
       "      <td>-0.534971</td>\n",
       "    </tr>\n",
       "    <tr>\n",
       "      <th>3391</th>\n",
       "      <td>-0.388156</td>\n",
       "      <td>-0.489087</td>\n",
       "      <td>-0.026366</td>\n",
       "      <td>3.805006</td>\n",
       "      <td>4.493954</td>\n",
       "      <td>3.484223</td>\n",
       "      <td>2.387873</td>\n",
       "      <td>0.891798</td>\n",
       "      <td>1.846105</td>\n",
       "      <td>0.802823</td>\n",
       "      <td>-1.519398</td>\n",
       "      <td>-1.436044</td>\n",
       "      <td>1.286961</td>\n",
       "      <td>-0.825188</td>\n",
       "      <td>-0.469841</td>\n",
       "      <td>-1.364267</td>\n",
       "      <td>-0.535072</td>\n",
       "      <td>-0.534971</td>\n",
       "    </tr>\n",
       "    <tr>\n",
       "      <th>3392</th>\n",
       "      <td>-0.388156</td>\n",
       "      <td>-0.489087</td>\n",
       "      <td>-0.026366</td>\n",
       "      <td>3.511543</td>\n",
       "      <td>4.550331</td>\n",
       "      <td>2.163798</td>\n",
       "      <td>1.116679</td>\n",
       "      <td>1.444918</td>\n",
       "      <td>-0.579568</td>\n",
       "      <td>0.984166</td>\n",
       "      <td>-1.630149</td>\n",
       "      <td>-1.259293</td>\n",
       "      <td>0.752643</td>\n",
       "      <td>-0.421454</td>\n",
       "      <td>0.439201</td>\n",
       "      <td>-1.364267</td>\n",
       "      <td>-0.535072</td>\n",
       "      <td>-0.534971</td>\n",
       "    </tr>\n",
       "    <tr>\n",
       "      <th>3393</th>\n",
       "      <td>-0.388156</td>\n",
       "      <td>-0.489087</td>\n",
       "      <td>-0.026366</td>\n",
       "      <td>4.983273</td>\n",
       "      <td>6.082393</td>\n",
       "      <td>0.981276</td>\n",
       "      <td>0.269216</td>\n",
       "      <td>0.638976</td>\n",
       "      <td>1.041363</td>\n",
       "      <td>0.889665</td>\n",
       "      <td>-1.671651</td>\n",
       "      <td>-1.501593</td>\n",
       "      <td>1.798798</td>\n",
       "      <td>-0.959766</td>\n",
       "      <td>-0.807130</td>\n",
       "      <td>-0.287506</td>\n",
       "      <td>-0.535072</td>\n",
       "      <td>1.845841</td>\n",
       "    </tr>\n",
       "    <tr>\n",
       "      <th>3394</th>\n",
       "      <td>-0.388156</td>\n",
       "      <td>-0.489087</td>\n",
       "      <td>-0.026366</td>\n",
       "      <td>4.453623</td>\n",
       "      <td>4.836858</td>\n",
       "      <td>1.945740</td>\n",
       "      <td>-0.154515</td>\n",
       "      <td>0.756514</td>\n",
       "      <td>2.459838</td>\n",
       "      <td>2.120092</td>\n",
       "      <td>-1.184060</td>\n",
       "      <td>-1.571280</td>\n",
       "      <td>0.735247</td>\n",
       "      <td>0.655172</td>\n",
       "      <td>1.030416</td>\n",
       "      <td>0.250874</td>\n",
       "      <td>3.578105</td>\n",
       "      <td>2.840080</td>\n",
       "    </tr>\n",
       "  </tbody>\n",
       "</table>\n",
       "<p>3395 rows × 18 columns</p>\n",
       "</div>\n",
       "      <button class=\"colab-df-convert\" onclick=\"convertToInteractive('df-56e1a0ff-09ee-44d4-acdf-fefdf79eaf13')\"\n",
       "              title=\"Convert this dataframe to an interactive table.\"\n",
       "              style=\"display:none;\">\n",
       "        \n",
       "  <svg xmlns=\"http://www.w3.org/2000/svg\" height=\"24px\"viewBox=\"0 0 24 24\"\n",
       "       width=\"24px\">\n",
       "    <path d=\"M0 0h24v24H0V0z\" fill=\"none\"/>\n",
       "    <path d=\"M18.56 5.44l.94 2.06.94-2.06 2.06-.94-2.06-.94-.94-2.06-.94 2.06-2.06.94zm-11 1L8.5 8.5l.94-2.06 2.06-.94-2.06-.94L8.5 2.5l-.94 2.06-2.06.94zm10 10l.94 2.06.94-2.06 2.06-.94-2.06-.94-.94-2.06-.94 2.06-2.06.94z\"/><path d=\"M17.41 7.96l-1.37-1.37c-.4-.4-.92-.59-1.43-.59-.52 0-1.04.2-1.43.59L10.3 9.45l-7.72 7.72c-.78.78-.78 2.05 0 2.83L4 21.41c.39.39.9.59 1.41.59.51 0 1.02-.2 1.41-.59l7.78-7.78 2.81-2.81c.8-.78.8-2.07 0-2.86zM5.41 20L4 18.59l7.72-7.72 1.47 1.35L5.41 20z\"/>\n",
       "  </svg>\n",
       "      </button>\n",
       "      \n",
       "  <style>\n",
       "    .colab-df-container {\n",
       "      display:flex;\n",
       "      flex-wrap:wrap;\n",
       "      gap: 12px;\n",
       "    }\n",
       "\n",
       "    .colab-df-convert {\n",
       "      background-color: #E8F0FE;\n",
       "      border: none;\n",
       "      border-radius: 50%;\n",
       "      cursor: pointer;\n",
       "      display: none;\n",
       "      fill: #1967D2;\n",
       "      height: 32px;\n",
       "      padding: 0 0 0 0;\n",
       "      width: 32px;\n",
       "    }\n",
       "\n",
       "    .colab-df-convert:hover {\n",
       "      background-color: #E2EBFA;\n",
       "      box-shadow: 0px 1px 2px rgba(60, 64, 67, 0.3), 0px 1px 3px 1px rgba(60, 64, 67, 0.15);\n",
       "      fill: #174EA6;\n",
       "    }\n",
       "\n",
       "    [theme=dark] .colab-df-convert {\n",
       "      background-color: #3B4455;\n",
       "      fill: #D2E3FC;\n",
       "    }\n",
       "\n",
       "    [theme=dark] .colab-df-convert:hover {\n",
       "      background-color: #434B5C;\n",
       "      box-shadow: 0px 1px 3px 1px rgba(0, 0, 0, 0.15);\n",
       "      filter: drop-shadow(0px 1px 2px rgba(0, 0, 0, 0.3));\n",
       "      fill: #FFFFFF;\n",
       "    }\n",
       "  </style>\n",
       "\n",
       "      <script>\n",
       "        const buttonEl =\n",
       "          document.querySelector('#df-56e1a0ff-09ee-44d4-acdf-fefdf79eaf13 button.colab-df-convert');\n",
       "        buttonEl.style.display =\n",
       "          google.colab.kernel.accessAllowed ? 'block' : 'none';\n",
       "\n",
       "        async function convertToInteractive(key) {\n",
       "          const element = document.querySelector('#df-56e1a0ff-09ee-44d4-acdf-fefdf79eaf13');\n",
       "          const dataTable =\n",
       "            await google.colab.kernel.invokeFunction('convertToInteractive',\n",
       "                                                     [key], {});\n",
       "          if (!dataTable) return;\n",
       "\n",
       "          const docLinkHtml = 'Like what you see? Visit the ' +\n",
       "            '<a target=\"_blank\" href=https://colab.research.google.com/notebooks/data_table.ipynb>data table notebook</a>'\n",
       "            + ' to learn more about interactive tables.';\n",
       "          element.innerHTML = '';\n",
       "          dataTable['output_type'] = 'display_data';\n",
       "          await google.colab.output.renderOutput(dataTable, element);\n",
       "          const docLink = document.createElement('div');\n",
       "          docLink.innerHTML = docLinkHtml;\n",
       "          element.appendChild(docLink);\n",
       "        }\n",
       "      </script>\n",
       "    </div>\n",
       "  </div>\n",
       "  "
      ],
      "text/plain": [
       "           Age  HoursPerWeek  TotalHours       APM  SelectByHotkeys  \\\n",
       "0     1.287812     -0.489087    0.119240  0.513521        -0.148288   \n",
       "1     0.330116     -0.489087    0.235724  0.234613        -0.188288   \n",
       "2     2.006085     -0.489087   -0.043838 -0.906582        -0.605182   \n",
       "3    -0.627580      0.352244   -0.032190 -0.181859        -0.617967   \n",
       "4     2.484933     -0.489087   -0.026366  0.112517        -0.598573   \n",
       "...        ...           ...         ...       ...              ...   \n",
       "3390 -0.388156     -0.489087   -0.026366  2.745266         3.052181   \n",
       "3391 -0.388156     -0.489087   -0.026366  3.805006         4.493954   \n",
       "3392 -0.388156     -0.489087   -0.026366  3.511543         4.550331   \n",
       "3393 -0.388156     -0.489087   -0.026366  4.983273         6.082393   \n",
       "3394 -0.388156     -0.489087   -0.026366  4.453623         4.836858   \n",
       "\n",
       "      AssignToHotkeys  UniqueHotkeys  MinimapAttacks  MinimapRightClicks  \\\n",
       "0           -0.684207       1.116679        0.069594            0.012948   \n",
       "1           -0.507399      -0.154515        1.180306            0.119380   \n",
       "2           -0.168988      -0.154515        1.177699            0.196244   \n",
       "3           -0.713535      -1.425710       -0.271524            0.413780   \n",
       "4           -0.205646      -1.001978       -0.592757            2.496707   \n",
       "...               ...            ...             ...                 ...   \n",
       "3390         1.642434       1.964142        3.152651           -0.640093   \n",
       "3391         3.484223       2.387873        0.891798            1.846105   \n",
       "3392         2.163798       1.116679        1.444918           -0.579568   \n",
       "3393         0.981276       0.269216        0.638976            1.041363   \n",
       "3394         1.945740      -0.154515        0.756514            2.459838   \n",
       "\n",
       "      NumberOfPACs  GapBetweenPACs  ActionLatency  ActionsInPAC  \\\n",
       "0         1.397121       -0.448594      -1.189024     -0.349380   \n",
       "1         0.850859       -0.433919      -1.112184     -0.287424   \n",
       "2        -0.541384        0.249894       0.603835     -0.822947   \n",
       "3         0.322194       -0.649597      -0.520076     -0.239184   \n",
       "4        -1.103252       -1.030437      -0.086198      2.743858   \n",
       "...            ...             ...            ...           ...   \n",
       "3390      1.100957       -1.268475      -1.086773      0.670682   \n",
       "3391      0.802823       -1.519398      -1.436044      1.286961   \n",
       "3392      0.984166       -1.630149      -1.259293      0.752643   \n",
       "3393      0.889665       -1.671651      -1.501593      1.798798   \n",
       "3394      2.120092       -1.184060      -1.571280      0.735247   \n",
       "\n",
       "      TotalMapExplored  WorkersMade  UniqueUnitsMade  ComplexUnitsMade  \\\n",
       "0             0.789750     0.703205        -0.287506         -0.535072   \n",
       "1            -0.017719     0.311824        -0.825886         -0.535072   \n",
       "2            -0.017719    -0.553320        -0.287506         -0.535072   \n",
       "3            -0.421454    -1.166793         0.250874         -0.535072   \n",
       "4            -0.959766     0.275210        -1.364267         -0.535072   \n",
       "...                ...          ...              ...               ...   \n",
       "3390          3.212157    -0.298200        -0.825886         -0.535072   \n",
       "3391         -0.825188    -0.469841        -1.364267         -0.535072   \n",
       "3392         -0.421454     0.439201        -1.364267         -0.535072   \n",
       "3393         -0.959766    -0.807130        -0.287506         -0.535072   \n",
       "3394          0.655172     1.030416         0.250874          3.578105   \n",
       "\n",
       "      ComplexAbilitiesUsed  \n",
       "0                -0.534971  \n",
       "1                 0.247698  \n",
       "2                 0.176773  \n",
       "3                 0.911366  \n",
       "4                -0.462371  \n",
       "...                    ...  \n",
       "3390             -0.534971  \n",
       "3391             -0.534971  \n",
       "3392             -0.534971  \n",
       "3393              1.845841  \n",
       "3394              2.840080  \n",
       "\n",
       "[3395 rows x 18 columns]"
      ]
     },
     "execution_count": 20,
     "metadata": {},
     "output_type": "execute_result"
    }
   ],
   "source": [
    "X"
   ]
  },
  {
   "cell_type": "code",
   "execution_count": 21,
   "metadata": {
    "id": "L_f3UvEuS8KA"
   },
   "outputs": [],
   "source": [
    "X_select =pd.DataFrame(X)"
   ]
  },
  {
   "cell_type": "code",
   "execution_count": 22,
   "metadata": {
    "id": "HwLzV2NbSfi8"
   },
   "outputs": [],
   "source": [
    "from sklearn.feature_selection import SelectKBest, f_classif\n",
    "\n",
    "# Perform feature selection using ANOVA F-value\n",
    "selector = SelectKBest(score_func=f_classif, k=10)  # Select top 10 features\n",
    "X_selected = selector.fit_transform(X_select, y)\n",
    "\n",
    "\n",
    "# Get the selected feature names\n",
    "selected_feature_names = X.columns[selector.get_support()]"
   ]
  },
  {
   "cell_type": "code",
   "execution_count": 23,
   "metadata": {
    "colab": {
     "base_uri": "https://localhost:8080/"
    },
    "id": "0hnZjXlAU7x3",
    "outputId": "0d86acc2-1e47-4639-f2ae-7531d6e2d06a"
   },
   "outputs": [
    {
     "data": {
      "text/plain": [
       "Index(['HoursPerWeek', 'APM', 'SelectByHotkeys', 'AssignToHotkeys',\n",
       "       'UniqueHotkeys', 'MinimapAttacks', 'NumberOfPACs', 'GapBetweenPACs',\n",
       "       'ActionLatency', 'WorkersMade'],\n",
       "      dtype='object')"
      ]
     },
     "execution_count": 23,
     "metadata": {},
     "output_type": "execute_result"
    }
   ],
   "source": [
    "selected_feature_names"
   ]
  },
  {
   "cell_type": "code",
   "execution_count": 24,
   "metadata": {
    "id": "91VglexWSZvH"
   },
   "outputs": [],
   "source": [
    "from imblearn.over_sampling import SMOTE\n",
    "\n",
    "# Apply SMOTE for oversampling the minority class\n",
    "smote = SMOTE()\n",
    "X_resampled, y_resampled = smote.fit_resample(X_selected, y)"
   ]
  },
  {
   "cell_type": "code",
   "execution_count": 25,
   "metadata": {
    "id": "6gCUg_u3V9ZJ"
   },
   "outputs": [],
   "source": [
    "# Split the resampled data into train and test sets\n",
    "X_train, X_test, y_train, y_test = train_test_split(X_resampled, y_resampled, test_size=0.2)"
   ]
  },
  {
   "cell_type": "markdown",
   "metadata": {
    "id": "cgYcM7TOQEQN"
   },
   "source": [
    "Imported various classification models like LogisticRegression, KNeighborsClassifier, DecisionTreeClassifier, RandomForestClassifier, SVC, GaussianNB, GradientBoostingClassifier, AdaBoostClassifier, VotingClassifier, BaggingClassifier and the classification_report metric from sklearn.metrics allowing for the evaluation and comparison of different models for classification tasks."
   ]
  },
  {
   "cell_type": "code",
   "execution_count": 26,
   "metadata": {
    "id": "VTFe0aeRLS1N"
   },
   "outputs": [],
   "source": [
    "from sklearn.linear_model import LogisticRegression\n",
    "from sklearn.neighbors import KNeighborsClassifier\n",
    "from sklearn.tree import DecisionTreeClassifier\n",
    "from sklearn.ensemble import RandomForestClassifier\n",
    "from sklearn.svm import SVC\n",
    "from sklearn.naive_bayes import GaussianNB\n",
    "from sklearn.ensemble import GradientBoostingClassifier\n",
    "from sklearn.metrics import classification_report\n",
    "from sklearn.ensemble import AdaBoostClassifier\n",
    "from sklearn.ensemble import VotingClassifier\n",
    "from sklearn.ensemble import BaggingClassifier"
   ]
  },
  {
   "cell_type": "code",
   "execution_count": 27,
   "metadata": {
    "colab": {
     "base_uri": "https://localhost:8080/"
    },
    "id": "T5cV9kkOLpIu",
    "outputId": "b804b6d2-952b-426d-d9f4-fd4dc3c32b21"
   },
   "outputs": [
    {
     "data": {
      "text/plain": [
       "4    811\n",
       "5    806\n",
       "6    621\n",
       "3    553\n",
       "2    347\n",
       "1    167\n",
       "8     55\n",
       "7     35\n",
       "Name: LeagueIndex, dtype: int64"
      ]
     },
     "execution_count": 27,
     "metadata": {},
     "output_type": "execute_result"
    }
   ],
   "source": [
    "#It returns the count of each unique value in the Series y, providing a frequency distribution of the target variable values.\n",
    "y.value_counts()"
   ]
  },
  {
   "cell_type": "code",
   "execution_count": 28,
   "metadata": {
    "colab": {
     "base_uri": "https://localhost:8080/"
    },
    "id": "PFo7sC33UWyH",
    "outputId": "abed2a0c-33a8-4692-cc97-4f58591f5c69"
   },
   "outputs": [
    {
     "data": {
      "text/plain": [
       "5    811\n",
       "4    811\n",
       "3    811\n",
       "2    811\n",
       "1    811\n",
       "7    811\n",
       "6    811\n",
       "8    811\n",
       "Name: LeagueIndex, dtype: int64"
      ]
     },
     "execution_count": 28,
     "metadata": {},
     "output_type": "execute_result"
    }
   ],
   "source": [
    "y_resampled.value_counts()"
   ]
  },
  {
   "cell_type": "markdown",
   "metadata": {
    "id": "nK7poH08VM7h"
   },
   "source": [
    "**Random Forest Model for Predicting datad or not using Scikit Learn**"
   ]
  },
  {
   "cell_type": "code",
   "execution_count": 30,
   "metadata": {
    "colab": {
     "base_uri": "https://localhost:8080/"
    },
    "id": "36jyqOxXVM7h",
    "outputId": "e1718b33-e96e-4e2b-daf3-7c5c5559d4ff"
   },
   "outputs": [
    {
     "name": "stdout",
     "output_type": "stream",
     "text": [
      "RandomForestClassifier classification report:\n",
      "              precision    recall  f1-score   support\n",
      "\n",
      "           1       0.82      0.87      0.85       175\n",
      "           2       0.68      0.77      0.72       155\n",
      "           3       0.59      0.64      0.62       153\n",
      "           4       0.43      0.26      0.32       173\n",
      "           5       0.37      0.34      0.35       155\n",
      "           6       0.59      0.69      0.64       156\n",
      "           7       0.95      0.99      0.97       153\n",
      "           8       0.99      0.99      0.99       178\n",
      "\n",
      "    accuracy                           0.70      1298\n",
      "   macro avg       0.68      0.70      0.68      1298\n",
      "weighted avg       0.68      0.70      0.69      1298\n",
      "\n",
      "\n"
     ]
    }
   ],
   "source": [
    "model = RandomForestClassifier()\n",
    "model.fit(X_train, y_train)\n",
    "y_pred = model.predict(X_test)\n",
    "\n",
    "\n",
    "report = classification_report(y_test, y_pred)\n",
    "print(f\"{type(model).__name__} classification report:\\n{report}\\n\")"
   ]
  },
  {
   "cell_type": "code",
   "execution_count": null,
   "metadata": {
    "id": "WAZmYeDuVLdY"
   },
   "outputs": [],
   "source": []
  },
  {
   "cell_type": "markdown",
   "metadata": {
    "id": "Eqts-m3zVNd4"
   },
   "source": [
    "**Support Vector Machine Model for Predicting datad or not using Scikit Learn**"
   ]
  },
  {
   "cell_type": "code",
   "execution_count": 31,
   "metadata": {
    "colab": {
     "base_uri": "https://localhost:8080/"
    },
    "id": "hqV_ogALVNd5",
    "outputId": "85f050d7-b715-4d43-bcf9-e9582d7abea7"
   },
   "outputs": [
    {
     "name": "stdout",
     "output_type": "stream",
     "text": [
      "SVC classification report:\n",
      "              precision    recall  f1-score   support\n",
      "\n",
      "           1       0.64      0.70      0.66       175\n",
      "           2       0.41      0.42      0.41       155\n",
      "           3       0.32      0.32      0.32       153\n",
      "           4       0.31      0.24      0.27       173\n",
      "           5       0.34      0.32      0.33       155\n",
      "           6       0.52      0.54      0.53       156\n",
      "           7       0.83      0.96      0.89       153\n",
      "           8       0.97      0.97      0.97       178\n",
      "\n",
      "    accuracy                           0.56      1298\n",
      "   macro avg       0.54      0.56      0.55      1298\n",
      "weighted avg       0.55      0.56      0.55      1298\n",
      "\n",
      "\n"
     ]
    }
   ],
   "source": [
    "model = SVC()\n",
    "model.fit(X_train, y_train)\n",
    "y_pred = model.predict(X_test)\n",
    "\n",
    "\n",
    "report = classification_report(y_test, y_pred)\n",
    "print(f\"{type(model).__name__} classification report:\\n{report}\\n\")"
   ]
  },
  {
   "cell_type": "code",
   "execution_count": null,
   "metadata": {
    "id": "rfRiOa_RVLh0"
   },
   "outputs": [],
   "source": []
  },
  {
   "cell_type": "markdown",
   "metadata": {
    "id": "m8PsyzZUVOeC"
   },
   "source": [
    "**Gradient Boosting Model for Predicting datad or not using Scikit Learn**"
   ]
  },
  {
   "cell_type": "code",
   "execution_count": 32,
   "metadata": {
    "colab": {
     "base_uri": "https://localhost:8080/"
    },
    "id": "FxPV8JnZVOeD",
    "outputId": "a0340b9f-7287-4bdd-da6b-1ebe98970d06"
   },
   "outputs": [
    {
     "name": "stdout",
     "output_type": "stream",
     "text": [
      "GradientBoostingClassifier classification report:\n",
      "              precision    recall  f1-score   support\n",
      "\n",
      "           1       0.71      0.69      0.70       175\n",
      "           2       0.51      0.58      0.55       155\n",
      "           3       0.39      0.36      0.37       153\n",
      "           4       0.38      0.31      0.34       173\n",
      "           5       0.31      0.29      0.30       155\n",
      "           6       0.51      0.60      0.55       156\n",
      "           7       0.93      0.98      0.95       153\n",
      "           8       0.98      0.98      0.98       178\n",
      "\n",
      "    accuracy                           0.60      1298\n",
      "   macro avg       0.59      0.60      0.59      1298\n",
      "weighted avg       0.60      0.60      0.60      1298\n",
      "\n",
      "\n"
     ]
    }
   ],
   "source": [
    "model = GradientBoostingClassifier()\n",
    "model.fit(X_train, y_train)\n",
    "y_pred = model.predict(X_test)\n",
    "\n",
    "\n",
    "report = classification_report(y_test, y_pred)\n",
    "print(f\"{type(model).__name__} classification report:\\n{report}\\n\")"
   ]
  },
  {
   "cell_type": "code",
   "execution_count": null,
   "metadata": {
    "id": "FMsfAL6cVLs5"
   },
   "outputs": [],
   "source": []
  },
  {
   "cell_type": "code",
   "execution_count": null,
   "metadata": {
    "id": "SH6q6efq14tJ"
   },
   "outputs": [],
   "source": []
  },
  {
   "cell_type": "markdown",
   "metadata": {
    "id": "Ils3OiUp14tK"
   },
   "source": [
    "**Bagging Classifier Model for Predicting datad or not using Scikit Learn**"
   ]
  },
  {
   "cell_type": "code",
   "execution_count": 35,
   "metadata": {
    "colab": {
     "base_uri": "https://localhost:8080/"
    },
    "id": "laD8UQHR14tK",
    "outputId": "531ca857-0e9b-402a-b92a-34109b8f123a"
   },
   "outputs": [
    {
     "name": "stdout",
     "output_type": "stream",
     "text": [
      "BaggingClassifier classification report:\n",
      "              precision    recall  f1-score   support\n",
      "\n",
      "           1       0.78      0.87      0.82       175\n",
      "           2       0.68      0.72      0.70       155\n",
      "           3       0.55      0.59      0.57       153\n",
      "           4       0.46      0.29      0.36       173\n",
      "           5       0.33      0.28      0.30       155\n",
      "           6       0.57      0.69      0.62       156\n",
      "           7       0.93      0.99      0.96       153\n",
      "           8       0.99      0.99      0.99       178\n",
      "\n",
      "    accuracy                           0.68      1298\n",
      "   macro avg       0.66      0.68      0.67      1298\n",
      "weighted avg       0.67      0.68      0.67      1298\n",
      "\n",
      "\n"
     ]
    }
   ],
   "source": [
    "model = BaggingClassifier(RandomForestClassifier(),n_estimators=50)\n",
    "model.fit(X_train, y_train)\n",
    "y_pred = model.predict(X_test)\n",
    "\n",
    "\n",
    "report = classification_report(y_test, y_pred)\n",
    "print(f\"{type(model).__name__} classification report:\\n{report}\\n\")"
   ]
  },
  {
   "cell_type": "code",
   "execution_count": null,
   "metadata": {
    "id": "hFtgnYZO14tK"
   },
   "outputs": [],
   "source": []
  },
  {
   "cell_type": "markdown",
   "metadata": {
    "id": "cmogf7Dd14tK"
   },
   "source": [
    "**Ensemble Voting Model for Predicting datad or not using Scikit Learn**"
   ]
  },
  {
   "cell_type": "code",
   "execution_count": 36,
   "metadata": {
    "colab": {
     "base_uri": "https://localhost:8080/"
    },
    "id": "0E3xm2iu14tK",
    "outputId": "75c26f37-d825-40ae-d0d6-40c2500a5424"
   },
   "outputs": [
    {
     "name": "stderr",
     "output_type": "stream",
     "text": [
      "/usr/local/lib/python3.10/dist-packages/sklearn/linear_model/_logistic.py:458: ConvergenceWarning: lbfgs failed to converge (status=1):\n",
      "STOP: TOTAL NO. of ITERATIONS REACHED LIMIT.\n",
      "\n",
      "Increase the number of iterations (max_iter) or scale the data as shown in:\n",
      "    https://scikit-learn.org/stable/modules/preprocessing.html\n",
      "Please also refer to the documentation for alternative solver options:\n",
      "    https://scikit-learn.org/stable/modules/linear_model.html#logistic-regression\n",
      "  n_iter_i = _check_optimize_result(\n"
     ]
    },
    {
     "name": "stdout",
     "output_type": "stream",
     "text": [
      "VotingClassifier classification report:\n",
      "              precision    recall  f1-score   support\n",
      "\n",
      "           1       0.63      0.77      0.69       175\n",
      "           2       0.43      0.47      0.45       155\n",
      "           3       0.41      0.35      0.38       153\n",
      "           4       0.33      0.27      0.30       173\n",
      "           5       0.34      0.29      0.31       155\n",
      "           6       0.45      0.47      0.46       156\n",
      "           7       0.80      0.88      0.84       153\n",
      "           8       0.99      0.99      0.99       178\n",
      "\n",
      "    accuracy                           0.57      1298\n",
      "   macro avg       0.55      0.56      0.55      1298\n",
      "weighted avg       0.55      0.57      0.56      1298\n",
      "\n",
      "\n"
     ]
    }
   ],
   "source": [
    "clf1 = LogisticRegression()\n",
    "clf2 = RandomForestClassifier()\n",
    "clf3 = GaussianNB()\n",
    "model = VotingClassifier(estimators=[\n",
    "         ('lr', clf1), ('rf', clf2), ('gnb', clf3)], voting='hard')\n",
    "model.fit(X_train, y_train)\n",
    "y_pred = model.predict(X_test)\n",
    "\n",
    "\n",
    "report = classification_report(y_test, y_pred)\n",
    "print(f\"{type(model).__name__} classification report:\\n{report}\\n\")"
   ]
  },
  {
   "cell_type": "code",
   "execution_count": null,
   "metadata": {
    "id": "TxXdtEn1LpQc"
   },
   "outputs": [],
   "source": []
  },
  {
   "cell_type": "code",
   "execution_count": null,
   "metadata": {
    "id": "qeuxVTiF2Ojf"
   },
   "outputs": [],
   "source": []
  }
 ],
 "metadata": {
  "colab": {
   "provenance": []
  },
  "kernelspec": {
   "display_name": "Python 3 (ipykernel)",
   "language": "python",
   "name": "python3"
  },
  "language_info": {
   "codemirror_mode": {
    "name": "ipython",
    "version": 3
   },
   "file_extension": ".py",
   "mimetype": "text/x-python",
   "name": "python",
   "nbconvert_exporter": "python",
   "pygments_lexer": "ipython3",
   "version": "3.9.13"
  }
 },
 "nbformat": 4,
 "nbformat_minor": 1
}
